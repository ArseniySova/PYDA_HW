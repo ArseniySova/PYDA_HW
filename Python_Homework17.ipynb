{
 "cells": [
  {
   "cell_type": "markdown",
   "metadata": {},
   "source": [
    "## Домашнее задание № 17. Случайные события. Случайные величины"
   ]
  },
  {
   "cell_type": "markdown",
   "metadata": {},
   "source": [
    "- [x]  Смоделировать игру против лотерейного автомата типа “777”. Игрок платит 1 руб., после чего выпадает случайное целое число, равномерно распределенное от 0 до 999. При некоторых значениях числа игрок получает выигрыш\n",
    "\n",
    "\n",
    "Выгодна ли игра игроку?\n",
    "\n",
    "Сколько в среднем приобретает\n",
    "или теряет игрок за одну игру?\n",
    "\n",
    "- 777: 200 руб.\n",
    "- 999: 100 руб.\n",
    "- 555: 50 руб.\n",
    "- 333: 15 руб.\n",
    "- 111: 10 руб.\n",
    "- *77: 5 руб.\n",
    "- **7: 3 руб.\n",
    "- *00: 2 руб.\n",
    "- **0: 1 руб.\n",
    "-  любая цифра"
   ]
  },
  {
   "cell_type": "code",
   "execution_count": 3,
   "metadata": {},
   "outputs": [],
   "source": [
    "import numpy as np\n",
    "import re"
   ]
  },
  {
   "cell_type": "code",
   "execution_count": 66,
   "metadata": {},
   "outputs": [
    {
     "data": {
      "text/plain": [
       "{'777': '200',\n",
       " '999': '100',\n",
       " '555': '50',\n",
       " '333': '15',\n",
       " '111': '10',\n",
       " '\\\\d{1}77': '5',\n",
       " '\\\\d{2}7': '3',\n",
       " '\\\\d{1}00': '2',\n",
       " '\\\\d{2}0': '1'}"
      ]
     },
     "execution_count": 66,
     "metadata": {},
     "output_type": "execute_result"
    }
   ],
   "source": [
    "# Создаем словарь шаблонов + денежных исходов\n",
    "regz_dict = {r'777':'200',\n",
    "             r'999':'100',\n",
    "             r'555':'50',\n",
    "             r'333':'15',\n",
    "             r'111':'10',\n",
    "             r'\\d{1}77':'5',\n",
    "             r'\\d{2}7':'3',\n",
    "             r'\\d{1}00':'2',\n",
    "             r'\\d{2}0':'1'}\n",
    "regz_dict"
   ]
  },
  {
   "cell_type": "code",
   "execution_count": 81,
   "metadata": {},
   "outputs": [
    {
     "name": "stdout",
     "output_type": "stream",
     "text": [
      "Попытка номер: 1\n",
      "Баланс: 5 руб.\n",
      "Выпало: 741\n",
      "Потеряли рубль.\n",
      "\n",
      "Попытка номер: 2\n",
      "Баланс: 4 руб.\n",
      "Выпало: 221\n",
      "Потеряли рубль.\n",
      "\n",
      "Попытка номер: 3\n",
      "Баланс: 3 руб.\n",
      "Выпало: 916\n",
      "Потеряли рубль.\n",
      "\n",
      "Попытка номер: 4\n",
      "Баланс: 2 руб.\n",
      "Выпало: 407\n",
      "Выигрыш составил: 2 руб.\n",
      "\n",
      "Попытка номер: 5\n",
      "Баланс: 4 руб.\n",
      "Выпало: 429\n",
      "Потеряли рубль.\n",
      "\n",
      "Итог 5 попыток: 3 руб.\n"
     ]
    }
   ],
   "source": [
    "# Тест программы на маленькой выборке\n",
    "def highjack(trials):\n",
    "    money = trials\n",
    "    for i in range(trials):\n",
    "        print(f'Попытка номер: {i+1}')\n",
    "        print(f'Баланс: {money} руб.')\n",
    "        money -= 1\n",
    "        outcome = str(np.random.randint(0, 10)) + str(np.random.randint(0, 10)) + str(np.random.randint(0, 10))\n",
    "        print(f'Выпало: {outcome}')\n",
    "        for key_reg in regz_dict:\n",
    "            win_test = re.match(key_reg, outcome)\n",
    "            if win_test:\n",
    "                print(f'Выигрыш составил: {int(regz_dict[key_reg]) - 1} руб.')\n",
    "                print()\n",
    "                money += int(regz_dict[key_reg])\n",
    "                break\n",
    "        else:\n",
    "            print(f'Потеряли рубль.')\n",
    "            print()\n",
    "    print(f'Итог {trials} попыток: {money} руб.')\n",
    "    \n",
    "highjack(5)"
   ]
  },
  {
   "cell_type": "code",
   "execution_count": 87,
   "metadata": {},
   "outputs": [
    {
     "name": "stdout",
     "output_type": "stream",
     "text": [
      "Итог 1000000 попыток: 793208 руб.\n",
      "Wall time: 19.5 s\n"
     ]
    },
    {
     "data": {
      "text/plain": [
       "'Средний выигрыш за 1 попытку: -0.21 руб.'"
      ]
     },
     "execution_count": 87,
     "metadata": {},
     "output_type": "execute_result"
    }
   ],
   "source": [
    "%%time\n",
    "# Решение\n",
    "def highjack_hc(trials):\n",
    "    money = trials\n",
    "    for i in range(trials):\n",
    "        money -= 1\n",
    "        outcome = str(np.random.randint(0, 10)) + str(np.random.randint(0, 10)) + str(np.random.randint(0, 10))\n",
    "        for key_reg in regz_dict:\n",
    "            win_test = re.match(key_reg, outcome)\n",
    "            if win_test:\n",
    "                money += int(regz_dict[key_reg])\n",
    "                break\n",
    "    print(f'Итог {trials} попыток: {money} руб.')\n",
    "    return f'Средний выигрыш за 1 попытку: {round(money / trials - 1, 2)} руб.'\n",
    "    \n",
    "\n",
    "highjack_hc(1000000)"
   ]
  }
 ],
 "metadata": {
  "kernelspec": {
   "display_name": "Python 3",
   "language": "python",
   "name": "python3"
  },
  "language_info": {
   "codemirror_mode": {
    "name": "ipython",
    "version": 3
   },
   "file_extension": ".py",
   "mimetype": "text/x-python",
   "name": "python",
   "nbconvert_exporter": "python",
   "pygments_lexer": "ipython3",
   "version": "3.8.5"
  }
 },
 "nbformat": 4,
 "nbformat_minor": 4
}
