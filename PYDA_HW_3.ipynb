{
  "nbformat": 4,
  "nbformat_minor": 0,
  "metadata": {
    "kernelspec": {
      "display_name": "Python 3",
      "language": "python",
      "name": "python3"
    },
    "language_info": {
      "codemirror_mode": {
        "name": "ipython",
        "version": 3
      },
      "file_extension": ".py",
      "mimetype": "text/x-python",
      "name": "python",
      "nbconvert_exporter": "python",
      "pygments_lexer": "ipython3",
      "version": "3.8.3"
    },
    "colab": {
      "name": "PYDA_HW_3",
      "provenance": []
    }
  },
  "cells": [
    {
      "cell_type": "markdown",
      "metadata": {
        "id": "_17j3JevAOes"
      },
      "source": [
        "### Задание № 1"
      ]
    },
    {
      "cell_type": "markdown",
      "metadata": {
        "id": "ltr-DGImAOet"
      },
      "source": [
        "Дана переменная, в которой хранится словарь, содержащий гео-метки для каждого пользователя (пример структуры данных приведен ниже). Вам необходимо написать программу, которая выведет на экран множество уникальных гео-меток всех пользователей."
      ]
    },
    {
      "cell_type": "code",
      "metadata": {
        "id": "BYzhCqfgAOeu",
        "outputId": "6217ba9d-817a-479e-a889-3c031d2a6bc7"
      },
      "source": [
        "ids = {'user1': [213, 213, 213, 15, 213], \n",
        "       'user2': [54, 54, 119, 119, 119], \n",
        "       'user3': [213, 98, 98, 35]}\n",
        "\n",
        "geotags_unique = []\n",
        "for username, geotags in ids.items():\n",
        "    for tags in geotags:\n",
        "        geotags_unique.append(tags)\n",
        "print(set(geotags_unique))"
      ],
      "execution_count": null,
      "outputs": [
        {
          "output_type": "stream",
          "text": [
            "{98, 35, 15, 213, 54, 119}\n"
          ],
          "name": "stdout"
        }
      ]
    },
    {
      "cell_type": "markdown",
      "metadata": {
        "id": "1NTTafFhAOev"
      },
      "source": [
        "### Задание № 2"
      ]
    },
    {
      "cell_type": "markdown",
      "metadata": {
        "id": "Oqk_zstrAOew"
      },
      "source": [
        "Дана переменная, в которой хранится список поисковых запросов пользователя (пример структуры данных приведен ниже). Вам необходимо написать программу, которая выведет на экран распределение количества слов в запросах в требуемом виде."
      ]
    },
    {
      "cell_type": "code",
      "metadata": {
        "id": "_1QxPVriAOew",
        "outputId": "d54a024c-cea7-493e-f676-caa31f00c906"
      },
      "source": [
        "queries = [\n",
        "    'смотреть сериалы онлайн',\n",
        "    'новости спорта',\n",
        "    'афиша кино',\n",
        "    'курс доллара',\n",
        "    'сериалы этим летом',\n",
        "    'курс по питону',\n",
        "    'сериалы про спорт',\n",
        "]\n",
        "\n",
        "query_freq = {}\n",
        "\n",
        "for query in queries:\n",
        "    text = query.split()\n",
        "    if len(text) in query_freq.keys():\n",
        "        query_freq[len(text)] += 1\n",
        "    else:\n",
        "        query_freq[len(text)] = 1\n",
        "\n",
        "for key, value in query_freq.items():\n",
        "    print(f'Поисковых запросов, содержащих {key} слов(а): {(value / sum(query_freq.values())):.2%}')"
      ],
      "execution_count": null,
      "outputs": [
        {
          "output_type": "stream",
          "text": [
            "Поисковых запросов, содержащих 3 слов(а): 57.14%\n",
            "Поисковых запросов, содержащих 2 слов(а): 42.86%\n"
          ],
          "name": "stdout"
        }
      ]
    },
    {
      "cell_type": "markdown",
      "metadata": {
        "id": "6e558wGRAOex"
      },
      "source": [
        "### Задание № 3"
      ]
    },
    {
      "cell_type": "markdown",
      "metadata": {
        "id": "cHRPEBlLAOex"
      },
      "source": [
        "Дана переменная, в которой хранится информация о затратах и доходе рекламных кампаний по различным источникам. Необходимо дополнить исходную структуру показателем ROI, который рассчитаем по формуле: (revenue / cost - 1) * 100"
      ]
    },
    {
      "cell_type": "code",
      "metadata": {
        "id": "XG2QzdxTAOey",
        "outputId": "f3fd0ce5-e631-4027-df56-7b5ede832c82"
      },
      "source": [
        "results = {\n",
        "    'vk': {'revenue': 103, 'cost': 98},\n",
        "    'yandex': {'revenue': 179, 'cost': 153},\n",
        "    'facebook': {'revenue': 103, 'cost': 110},\n",
        "    'adwords': {'revenue': 35, 'cost': 34},\n",
        "    'twitter': {'revenue': 11, 'cost': 24},\n",
        "}\n",
        "\n",
        "for value in results.values():\n",
        "    value.update({'ROI': round((value['revenue'] / value['cost'] - 1) * 100, 2)})\n",
        "    \n",
        "results"
      ],
      "execution_count": null,
      "outputs": [
        {
          "output_type": "execute_result",
          "data": {
            "text/plain": [
              "{'vk': {'revenue': 103, 'cost': 98, 'ROI': 5.1},\n",
              " 'yandex': {'revenue': 179, 'cost': 153, 'ROI': 16.99},\n",
              " 'facebook': {'revenue': 103, 'cost': 110, 'ROI': -6.36},\n",
              " 'adwords': {'revenue': 35, 'cost': 34, 'ROI': 2.94},\n",
              " 'twitter': {'revenue': 11, 'cost': 24, 'ROI': -54.17}}"
            ]
          },
          "metadata": {
            "tags": []
          },
          "execution_count": 1
        }
      ]
    },
    {
      "cell_type": "markdown",
      "metadata": {
        "id": "e0YVUKCzAOey"
      },
      "source": [
        "### Задание № 4"
      ]
    },
    {
      "cell_type": "markdown",
      "metadata": {
        "id": "RLRIXRbcAOez"
      },
      "source": [
        "Дана переменная, в которой хранится статистика рекламных каналов по объемам продаж (пример структуры данных приведен ниже). Напишите программу, которая возвращает название канала с максимальным объемом продаж."
      ]
    },
    {
      "cell_type": "code",
      "metadata": {
        "id": "NjaVeWz3AOez",
        "outputId": "500b0d59-5126-4949-bb2b-cbc8172d9914"
      },
      "source": [
        "stats = {'facebook': 55, 'yandex': 115, 'vk': 120, 'google': 99, 'email': 42, 'ok': 98}\n",
        "\n",
        "max_volume = max(stats.values())\n",
        "\n",
        "max_volume_keys = {key : value for key, value in stats.items() if value == max_volume}\n",
        "\n",
        "for key in max_volume_keys.keys():\n",
        "    print(f'Максимальный объем продаж на рекламном канале: {key}')"
      ],
      "execution_count": null,
      "outputs": [
        {
          "output_type": "stream",
          "text": [
            "Максимальный объем продаж на рекламном канале: vk\n"
          ],
          "name": "stdout"
        }
      ]
    },
    {
      "cell_type": "markdown",
      "metadata": {
        "id": "p7-V7hUjAOe0"
      },
      "source": [
        "### Задание № 5"
      ]
    },
    {
      "cell_type": "markdown",
      "metadata": {
        "id": "ajL4hX_CAOe0"
      },
      "source": [
        "Дан список произвольной длины. Необходимо написать код, который на основе исходного списка составит словарь такого уровня вложенности, какова длина исхондого списка.\n",
        "\n",
        "Примеры работы программы:\n",
        "\n",
        "my_list = ['2018-01-01', 'yandex', 'cpc', 100]\n",
        "Результат: {'2018-01-01': {'yandex': {'cpc': 100}}}\n",
        "\n",
        "my_list = ['a', 'b', 'c', 'd', 'e', 'f']\n",
        "Результат: {'a': {'b': {'c': {'d': {'e': 'f'}}}}}"
      ]
    },
    {
      "cell_type": "code",
      "metadata": {
        "id": "J7rnome9AOe0",
        "outputId": "ed96b0e9-e44b-44bc-e98c-ebab521aa2ea"
      },
      "source": [
        "source = input('Введите любые значения, разделенные пробелом: ').split()\n",
        "\n",
        "result = {}\n",
        "\n",
        "for element in reversed(source):\n",
        "    if not result:\n",
        "        result = element\n",
        "    else:\n",
        "        result = {element : result}\n",
        "\n",
        "print(result)"
      ],
      "execution_count": null,
      "outputs": [
        {
          "output_type": "stream",
          "text": [
            "Введите любые значения, разделенные пробелом: a b c d e f\n",
            "{'a': {'b': {'c': {'d': {'e': 'f'}}}}}\n"
          ],
          "name": "stdout"
        }
      ]
    },
    {
      "cell_type": "markdown",
      "metadata": {
        "id": "b1Vh1UvJAOe1"
      },
      "source": [
        "### Задание № 6"
      ]
    },
    {
      "cell_type": "markdown",
      "metadata": {
        "id": "UOnswzlFAOe1"
      },
      "source": [
        "Дана книга рецептов с информацией о том, сколько ингредиентов нужно для приготовления блюда в расчете на одну порцию (пример данных представлен ниже).\n",
        "Напишите программу, которая будет запрашивать у пользователя количество порций для приготовления этих блюд и отображать информацию о суммарном количестве требуемых ингредиентов в указанном виде.\n",
        "Внимание! Одинаковые ингридиенты с разными размерностями нужно считать раздельно!\n",
        "\n",
        "Пример работы программы: ...\n",
        "\n",
        "Введите количество порций:  \n",
        "3\n",
        "\n",
        "Результат:\n",
        "\n",
        "Сыр: 210 гр  \n",
        "Томаты: 6 шт  \n",
        "Огурцы: 60 гр  \n",
        "Маслины: 30 гр  \n",
        "Оливковое масло: 60 мл  \n",
        "Салат: 30 гр  \n",
        "Перец: 60 гр  \n",
        "Колбаса: 90 гр  \n",
        "Бекон: 90 гр  \n",
        "Оливки: 30 гр  \n",
        "Томаты: 60 гр  \n",
        "Тесто: 300 гр  \n",
        "Лимон: 3 шт  \n",
        "Вода: 600 мл  \n",
        "Сахар: 30 гр  \n",
        "Лайм: 60 гр"
      ]
    },
    {
      "cell_type": "code",
      "metadata": {
        "id": "mZRo2uDGAOe2",
        "outputId": "d61cc98d-7146-462b-e6da-8add7b41f184"
      },
      "source": [
        "cook_book = { 'салат': [\n",
        "    {'ingridient_name': 'сыр', 'quantity': 50, 'measure': 'гр'},\n",
        "    {'ingridient_name': 'томаты', 'quantity': 2, 'measure': 'шт'},\n",
        "    {'ingridient_name': 'огурцы', 'quantity': 20, 'measure': 'гр'},\n",
        "    {'ingridient_name': 'маслины', 'quantity': 10, 'measure': 'гр'},\n",
        "    {'ingridient_name': 'оливковое масло', 'quantity': 20, 'measure': 'мл'},\n",
        "    {'ingridient_name': 'салат', 'quantity': 10, 'measure': 'гр'},\n",
        "    {'ingridient_name': 'перец', 'quantity': 20, 'measure': 'гр'} ],\n",
        "             'пицца': [ \n",
        "    {'ingridient_name': 'сыр', 'quantity': 20, 'measure': 'гр'},\n",
        "    {'ingridient_name': 'колбаса', 'quantity': 30, 'measure': 'гр'}, \n",
        "    {'ingridient_name': 'бекон', 'quantity': 30, 'measure': 'гр'}, \n",
        "    {'ingridient_name': 'оливки', 'quantity': 10, 'measure': 'гр'}, \n",
        "    {'ingridient_name': 'томаты', 'quantity': 20, 'measure': 'гр'},\n",
        "    {'ingridient_name': 'тесто', 'quantity': 100, 'measure': 'гр'} ],\n",
        "             'лимонад': [ \n",
        "    {'ingridient_name': 'лимон', 'quantity': 1, 'measure': 'шт'},\n",
        "    {'ingridient_name': 'вода', 'quantity': 200, 'measure': 'мл'},\n",
        "    {'ingridient_name': 'сахар', 'quantity': 10, 'measure': 'гр'},\n",
        "    {'ingridient_name': 'лайм', 'quantity': 20, 'measure': 'гр'} ] \n",
        "            }\n",
        "\n",
        "persons = int(input('Введите количество персон: '))\n",
        "\n",
        "result = {}\n",
        "for recept in cook_book.values():\n",
        "    for element in recept:\n",
        "        key = (element['ingridient_name'], element['measure'])\n",
        "        if key in result:\n",
        "            result.update({key : (result[key] + element['quantity'])})\n",
        "        else:\n",
        "            result.update({key : element['quantity']})\n",
        "\n",
        "print('Результат:')\n",
        "for key, value in result.items():\n",
        "    print(f'{key[0].capitalize()}: {value * persons} {key[1]}')\n",
        "        "
      ],
      "execution_count": null,
      "outputs": [
        {
          "output_type": "stream",
          "text": [
            "Введите количество персон: 3\n",
            "Результат:\n",
            "Сыр: 210 гр\n",
            "Томаты: 6 шт\n",
            "Огурцы: 60 гр\n",
            "Маслины: 30 гр\n",
            "Оливковое масло: 60 мл\n",
            "Салат: 30 гр\n",
            "Перец: 60 гр\n",
            "Колбаса: 90 гр\n",
            "Бекон: 90 гр\n",
            "Оливки: 30 гр\n",
            "Томаты: 60 гр\n",
            "Тесто: 300 гр\n",
            "Лимон: 3 шт\n",
            "Вода: 600 мл\n",
            "Сахар: 30 гр\n",
            "Лайм: 60 гр\n"
          ],
          "name": "stdout"
        }
      ]
    },
    {
      "cell_type": "code",
      "metadata": {
        "id": "bllhaJJtAOe3"
      },
      "source": [
        ""
      ],
      "execution_count": null,
      "outputs": []
    }
  ]
}