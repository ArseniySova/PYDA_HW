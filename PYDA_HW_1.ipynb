{
  "nbformat": 4,
  "nbformat_minor": 0,
  "metadata": {
    "kernelspec": {
      "display_name": "Python 3",
      "language": "python",
      "name": "python3"
    },
    "language_info": {
      "codemirror_mode": {
        "name": "ipython",
        "version": 3
      },
      "file_extension": ".py",
      "mimetype": "text/x-python",
      "name": "python",
      "nbconvert_exporter": "python",
      "pygments_lexer": "ipython3",
      "version": "3.8.3"
    },
    "colab": {
      "name": "PYDA_HW_1",
      "provenance": []
    }
  },
  "cells": [
    {
      "cell_type": "markdown",
      "metadata": {
        "id": "_6Y7_MC3_ifp"
      },
      "source": [
        "## **Задание 1**"
      ]
    },
    {
      "cell_type": "markdown",
      "metadata": {
        "id": "4RlireM3_ifq"
      },
      "source": [
        "Даны 2 переменных, в которых хранятся строки произвольной длины: phrase_1 и phrase_2.\n",
        "Напишите код, который проверяет какая из этих строк длиннее. "
      ]
    },
    {
      "cell_type": "code",
      "metadata": {
        "id": "8K2QrD7F_ifr",
        "colab": {
          "base_uri": "https://localhost:8080/"
        },
        "outputId": "dad11e85-2d4c-4881-cdd8-4ae99b423d61"
      },
      "source": [
        "phrase_1 = input('Введите первую фразу: ')\n",
        "phrase_2 = input('Введите вторую фразу: ')\n",
        "\n",
        "if len(phrase_1) == len(phrase_2):\n",
        "    print('Фразы равной длины')\n",
        "elif len(phrase_1) > len(phrase_2):\n",
        "    print('Фраза 1 длиннее фразы 2')\n",
        "else:\n",
        "    print('Фраза 2 длиннее фразы 1')"
      ],
      "execution_count": 2,
      "outputs": [
        {
          "output_type": "stream",
          "text": [
            "Введите первую фразу: 640Кб должно хватить для любых задач. Билл Гейтс (по легенде)\n",
            "Введите вторую фразу: Насколько проще было бы писать программы, если бы не заказчики\n",
            "Фраза 2 длиннее фразы 1\n"
          ],
          "name": "stdout"
        }
      ]
    },
    {
      "cell_type": "markdown",
      "metadata": {
        "id": "KFKPvyNK_ifs"
      },
      "source": [
        "## **Задание 2**"
      ]
    },
    {
      "cell_type": "markdown",
      "metadata": {
        "id": "JBAdH50K_ift"
      },
      "source": [
        "Дана переменная, в которой хранится четырехзначное число (год). Необходимо написать программу, которая выведет, является ли данный год високосным или обычным."
      ]
    },
    {
      "cell_type": "code",
      "metadata": {
        "id": "3rxZTGyE_ift",
        "colab": {
          "base_uri": "https://localhost:8080/"
        },
        "outputId": "cb2b7356-9dac-426b-abcf-1006b6d4516a"
      },
      "source": [
        "year = int(input('Введите год: '))\n",
        "\n",
        "if year % 4 != 0 or (year % 100 == 0 and year % 400 != 0):\n",
        "    print('Обычный')\n",
        "else:\n",
        "    print('Високосный')"
      ],
      "execution_count": 3,
      "outputs": [
        {
          "output_type": "stream",
          "text": [
            "Введите год: 2020\n",
            "Високосный\n"
          ],
          "name": "stdout"
        }
      ]
    },
    {
      "cell_type": "markdown",
      "metadata": {
        "id": "YDIiehBZ_ifu"
      },
      "source": [
        "## **Задание 3**"
      ]
    },
    {
      "cell_type": "markdown",
      "metadata": {
        "id": "nBNGTuwQ_ifu"
      },
      "source": [
        "Необходимо написать программу, которая будет запрашивать у пользователя месяц и дату рождения и выводить соответствующий знак зодиака."
      ]
    },
    {
      "cell_type": "code",
      "metadata": {
        "id": "DUW22oZm_ifu",
        "colab": {
          "base_uri": "https://localhost:8080/"
        },
        "outputId": "d4b9f401-406f-4ee1-e7a6-11d945ad33cc"
      },
      "source": [
        "month = input('Введите месяц рождения (Текстом): ').upper()\n",
        "date = int(input('Введите день рождения: '))\n",
        "if 1 <= date <= 31:\n",
        "    if (date>=21 and date<=31 and month=='МАРТ') or( month=='АПРЕЛЬ' and date>=1 and date<=19):\n",
        "\n",
        "       print(\"Ваш знак зодиака:Овен\")\n",
        "\n",
        "    elif (date>=20 and date<=30 and month=='АПРЕЛЬ') or( month=='МАЙ' and date>=1 and date<=20):\n",
        "\n",
        "       print(\"Ваш знак зодиака:Телец\")\n",
        "\n",
        "    elif (date>=21 and date<=31 and month=='МАЙ') or( month=='ИЮНЬ' and date>=1 and date<=21):\n",
        "\n",
        "       print(\"Ваш знак зодиака:Близнецы\")\n",
        "\n",
        "    elif (date>=22 and date<=30 and month=='ИЮНЬ') or( month=='ИЮЛЬ' and date>=1 and date<=22):\n",
        "\n",
        "       print(\"Ваш знак зодиака:Рак\")\n",
        "\n",
        "    elif (date>=23 and date<=31 and month=='ИЮЛЬ') or( month=='АВГУСТ' and date>=1 and date<=22):\n",
        "\n",
        "       print(\"Ваш знак зодиака:Лев\")\n",
        "\n",
        "    elif (date>=23 and date<=31 and month=='АВГУСТ') or( month=='СЕНТЯБРЬ' and date>=1 and date<=22):\n",
        "\n",
        "       print(\"Ваш знак зодиака:Дева\")\n",
        "\n",
        "    elif (date>=23 and date<=30 and month=='СЕНТЯБРЬ') or( month=='ОКТЯБРЬ' and date>=1 and date<=23):\n",
        "\n",
        "       print(\"Ваш знак зодиака:Весы\")\n",
        "\n",
        "    elif (date>=24 and date<=31 and month=='ОКТЯБРЬ') or( month=='НОЯБРЬ' and date>=1 and date<=22):\n",
        "\n",
        "       print(\"Ваш знак зодиака:Скорпион\")\n",
        "\n",
        "    elif (date>=23 and date<=30 and month=='НОЯБРЬ') or( month=='ДЕКАБРЬ' and date>=1 and date<=21):\n",
        "\n",
        "       print(\"Ваш знак зодиака:Стрелец\")\n",
        "\n",
        "    elif (date>=22 and date<=31 and month=='ДЕКАБРЬ') or( month=='ЯНВАРЬ' and date>=1 and date<=20):\n",
        "\n",
        "       print(\"Ваш знак зодиака:Козерог\")\n",
        "\n",
        "    elif (date>=21 and date<=31 and month=='ЯНВАРЬ') or( month=='ФЕВРАЛЬ' and date>=1 and date<=18):\n",
        "\n",
        "       print(\"Ваш знак зодиака:Водолей\")\n",
        "\n",
        "    elif (date>=19 and date<=29 and month=='ФЕВРАЛЬ') or( month=='МАРТ' and date>=1 and date<=20):\n",
        "\n",
        "       print(\"Ваш знак зодиака:Рыбы\")\n",
        "else:\n",
        "    print('Введите корректную дату')"
      ],
      "execution_count": 5,
      "outputs": [
        {
          "output_type": "stream",
          "text": [
            "Введите месяц рождения (Текстом): сентябрь\n",
            "Введите день рождения: 9\n",
            "Ваш знак зодиака:Дева\n"
          ],
          "name": "stdout"
        }
      ]
    },
    {
      "cell_type": "markdown",
      "metadata": {
        "id": "jVLHRbb1_ifv"
      },
      "source": [
        "## **Задание 4**"
      ]
    },
    {
      "cell_type": "markdown",
      "metadata": {
        "id": "_W-BicyQ_ifw"
      },
      "source": [
        "Вам нужно написать программу для подбора упаковок по размерам товара. Размеры хранятся в переменных (в сантиметрах):"
      ]
    },
    {
      "cell_type": "code",
      "metadata": {
        "id": "ZnEAZHgH_ifw",
        "outputId": "7e7d27f9-04a2-4ab7-ebee-75704f3997d5"
      },
      "source": [
        "width = float(input('Введите ширину в см. : '))/100\n",
        "length = float(input('Введите длину в см. : '))/100\n",
        "height = float(input('Введите высоту в см. : '))/100\n",
        "\n",
        "if width < 0.15 and length < 0.15 and height < 0.15:\n",
        "    print('Коробка №1')\n",
        "elif (0.15 < width < 0.5) or (0.15 < length < 0.5) or (0.15 < height < 0.5):\n",
        "    print('Коробка №2')\n",
        "elif length > 2:\n",
        "    print('Упаковка для лыж')\n",
        "else:\n",
        "    print('Стандартная коробка №3')"
      ],
      "execution_count": null,
      "outputs": [
        {
          "output_type": "stream",
          "text": [
            "Введите ширину в см. : 15\n",
            "Введите длину в см. : 250\n",
            "Введите высоту в см. : 160\n",
            "Упаковка для лыж\n"
          ],
          "name": "stdout"
        }
      ]
    },
    {
      "cell_type": "markdown",
      "metadata": {
        "id": "BjoxYI4e_ifw"
      },
      "source": [
        "## **Задание 5***"
      ]
    },
    {
      "cell_type": "markdown",
      "metadata": {
        "id": "i-QXKSDh_ifx"
      },
      "source": [
        "Дана переменная, в которой хранится шестизначное число (номер проездного билета). Напишите программу, которая будет определять, является ли данный билет “счастливым”. Билет считается счастливым, если сумма первых трех цифр совпадает с суммой последних трех цифр номера."
      ]
    },
    {
      "cell_type": "code",
      "metadata": {
        "id": "2sjdtA2n_ifx",
        "outputId": "a982781f-c275-47a6-aea5-56de7aab5769"
      },
      "source": [
        "ticket = str(input('Введите 6-значный номер билета: '))\n",
        "sum_first_three = int(ticket[0]) + int(ticket[1]) + int(ticket[2])\n",
        "sum_last_three = int(ticket[3]) + int(ticket[4]) + int(ticket[5])\n",
        "if sum_first_three == sum_last_three:\n",
        "  print('Счастливый билет')\n",
        "else:\n",
        "  print('Несчасливый билет')"
      ],
      "execution_count": null,
      "outputs": [
        {
          "output_type": "stream",
          "text": [
            "Введите 6-значный номер билета: 415550\n",
            "Счастливый билет\n"
          ],
          "name": "stdout"
        }
      ]
    },
    {
      "cell_type": "markdown",
      "metadata": {
        "id": "LIiwxFhc_ify"
      },
      "source": [
        "## **Задание 6***"
      ]
    },
    {
      "cell_type": "markdown",
      "metadata": {
        "id": "74sBm1_2_ify"
      },
      "source": [
        "Напишите программу, которая сможет вычислять площади трех фигур (круг, треугольник и прямоугольник). Тип фигуры запрашиваем через пользовательский ввод, после чего делаем запрос характеристик фигуры:"
      ]
    },
    {
      "cell_type": "code",
      "metadata": {
        "id": "ZIqEd9Ga_ify",
        "outputId": "5bb22eab-12e7-478b-9c1e-c48941edf0b4"
      },
      "source": [
        "import math as m\n",
        "\n",
        "shape = str(input('Введите тип фигуры: ')).upper()\n",
        "if shape == 'КРУГ':\n",
        "    radius = float(input('Введите радиус окружности: '))\n",
        "    print('Площадь окружности равна: ',m.pi * (radius ** 2))\n",
        "elif shape == 'ТРЕУГОЛЬНИК':\n",
        "    sideA = float(input('Введите длину стороны А: '))\n",
        "    sideB = float(input('Введите длину стороны В: '))\n",
        "    sideC = float(input('Введите длину стороны С: '))\n",
        "    p = (sideA + sideB + sideC) / 2\n",
        "    print('Площадь треугольника равна: ',m.sqrt(p*(p-sideA)*(p-sideB)*(p-sideC)))\n",
        "elif shape == 'ПРЯМОУГОЛЬНИК':\n",
        "    sideA = float(input('Введите длину стороны А: '))\n",
        "    sideB = float(input('Введите длину стороны В: '))\n",
        "    print('Площадь треугольника равна: ',sideA*sideB)\n",
        "else:\n",
        "    print('Введите \"Круг\", \"Прямоугольник\" или \"Треугольник\"')"
      ],
      "execution_count": null,
      "outputs": [
        {
          "output_type": "stream",
          "text": [
            "Введите тип фигуры: крук\n",
            "Введите \"Круг\", \"Прямоугольник\" или \"Треугольник\"\n"
          ],
          "name": "stdout"
        }
      ]
    }
  ]
}