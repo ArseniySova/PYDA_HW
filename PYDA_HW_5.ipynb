{
  "nbformat": 4,
  "nbformat_minor": 0,
  "metadata": {
    "kernelspec": {
      "display_name": "Python 3",
      "language": "python",
      "name": "python3"
    },
    "language_info": {
      "codemirror_mode": {
        "name": "ipython",
        "version": 3
      },
      "file_extension": ".py",
      "mimetype": "text/x-python",
      "name": "python",
      "nbconvert_exporter": "python",
      "pygments_lexer": "ipython3",
      "version": "3.8.3"
    },
    "colab": {
      "name": "PYDA_HW_5.ipynb",
      "provenance": []
    }
  },
  "cells": [
    {
      "cell_type": "markdown",
      "metadata": {
        "id": "NXUTX_9NPlkW"
      },
      "source": [
        "1. Переведите содержимое файла purchase_log.txt в словарь __purchases__ вида: {‘1840e0b9d4’: ‘Продукты’, …}\n",
        "\n",
        "2. Для каждого user_id в файле visit_log.csv определите третий столбец с категорией покупки (если покупка была, сам файл visit_log.csv изменять не надо). Запишите в файл funnel.csv визиты из файла visit_log.csv, в которых были покупки с указанием категории.\n",
        "\n",
        "*  Учтите условия на данные:\n",
        "      * содержимое purchase_log.txt помещается в оперативную память компьютера\n",
        "      * содержимое visit_log.csv - нет; используйте только построчную обработку этого файла"
      ]
    },
    {
      "cell_type": "code",
      "metadata": {
        "colab": {
          "base_uri": "https://localhost:8080/",
          "height": 35
        },
        "id": "W1YiN7uBPlkY",
        "outputId": "1d833d46-68ab-4f30-a67b-fb7eeaf39413"
      },
      "source": [
        "import json\n",
        "\n",
        "with open(\"purchase_log.txt\", \"r\") as f:\n",
        "    new_list = [json.loads(x) for x in f.readlines()]\n",
        "\n",
        "purchases = {x['user_id']: x['category'] for x in new_list[1:]}\n",
        "purchases[\"98d290be27\"]"
      ],
      "execution_count": 3,
      "outputs": [
        {
          "output_type": "execute_result",
          "data": {
            "application/vnd.google.colaboratory.intrinsic+json": {
              "type": "string"
            },
            "text/plain": [
              "'Электроника'"
            ]
          },
          "metadata": {
            "tags": []
          },
          "execution_count": 3
        }
      ]
    },
    {
      "cell_type": "code",
      "metadata": {
        "id": "mg-1o3OwPlkZ"
      },
      "source": [
        "with open(\"visit_log.csv\", \"r\") as vl:\n",
        "    with open(\"funnel.csv\", \"w\") as f:\n",
        "        for line in vl:\n",
        "            line = line.strip()\n",
        "            user_id = line.split(',')[0]\n",
        "            if user_id in purchases:\n",
        "                f.write(line+\",\"+purchases[user_id]+\"\\n\")"
      ],
      "execution_count": 4,
      "outputs": []
    }
  ]
}