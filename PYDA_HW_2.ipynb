{
  "nbformat": 4,
  "nbformat_minor": 0,
  "metadata": {
    "kernelspec": {
      "display_name": "Python 3",
      "language": "python",
      "name": "python3"
    },
    "language_info": {
      "codemirror_mode": {
        "name": "ipython",
        "version": 3
      },
      "file_extension": ".py",
      "mimetype": "text/x-python",
      "name": "python",
      "nbconvert_exporter": "python",
      "pygments_lexer": "ipython3",
      "version": "3.8.3"
    },
    "colab": {
      "name": "PYDA_HW_2",
      "provenance": [],
      "collapsed_sections": []
    }
  },
  "cells": [
    {
      "cell_type": "markdown",
      "metadata": {
        "id": "usNzj5as3aZE"
      },
      "source": [
        "Управляющие конструкции и коллекции"
      ]
    },
    {
      "cell_type": "markdown",
      "metadata": {
        "id": "Ea4lFYmB3aZM"
      },
      "source": [
        "### Задание № 1"
      ]
    },
    {
      "cell_type": "markdown",
      "metadata": {
        "id": "RFwGrt6R3aZN"
      },
      "source": [
        "Дана переменная, в которой хранится слово из латинских букв. Напишите код, который выводит на экран:\n",
        "\n",
        "* среднюю букву, если число букв в слове нечетное;\n",
        "* две средних буквы, если число букв четное."
      ]
    },
    {
      "cell_type": "code",
      "metadata": {
        "colab": {
          "base_uri": "https://localhost:8080/"
        },
        "id": "3R-71ldX3aZO",
        "outputId": "f443ee2b-6324-44f7-bbdc-33442c04f92b"
      },
      "source": [
        "word = str(input('Enter your word: '))\n",
        "length = int(len(word))\n",
        "\n",
        "if length % 2 == 0:\n",
        "    print(word[(length // 2 - 1):(length // 2 + 1)])\n",
        "else:\n",
        "    print(word[((length - 1) // 2)])"
      ],
      "execution_count": 2,
      "outputs": [
        {
          "output_type": "stream",
          "text": [
            "Enter your word: netology\n",
            "ol\n"
          ],
          "name": "stdout"
        }
      ]
    },
    {
      "cell_type": "markdown",
      "metadata": {
        "id": "HwYSoRuT3aZQ"
      },
      "source": [
        "### Задание № 2"
      ]
    },
    {
      "cell_type": "markdown",
      "metadata": {
        "id": "rx847VmW3aZQ"
      },
      "source": [
        "Напишите программу, которая последовательно запрашивает у пользователя числа (по одному за раз) и после первого нуля выводит сумму всех ранее введенных чисел."
      ]
    },
    {
      "cell_type": "code",
      "metadata": {
        "id": "cFvE6mJk3aZR",
        "outputId": "26d40144-6596-448e-d252-d79ad8923f00"
      },
      "source": [
        "digit = float(input('Введите одно число: '))\n",
        "sum = 0\n",
        "\n",
        "while digit != 0:\n",
        "    sum += digit\n",
        "    digit = float(input('Введите еще одно число: '))\n",
        "print(sum)"
      ],
      "execution_count": null,
      "outputs": [
        {
          "output_type": "stream",
          "text": [
            "Введите одно число: 15\n",
            "Введите еще одно число: 15.38\n",
            "Введите еще одно число: 0\n",
            "30.380000000000003\n"
          ],
          "name": "stdout"
        }
      ]
    },
    {
      "cell_type": "markdown",
      "metadata": {
        "id": "TPWlaC6k3aZR"
      },
      "source": [
        "### Задание № 3"
      ]
    },
    {
      "cell_type": "markdown",
      "metadata": {
        "id": "fwpqCkaw3aZR"
      },
      "source": [
        "Мы делаем MVP dating-сервиса, и у нас есть список парней и девушек.\n",
        "Выдвигаем гипотезу: лучшие рекомендации мы получим, если просто отсортируем имена по алфавиту и познакомим людей с одинаковыми индексами после сортировки! Но мы не будем никого знакомить, если кто-то может остаться без пары:"
      ]
    },
    {
      "cell_type": "code",
      "metadata": {
        "colab": {
          "base_uri": "https://localhost:8080/"
        },
        "id": "YcAeXqQ83aZU",
        "outputId": "1040c2f9-b7d3-466d-f23c-e0157ef09579"
      },
      "source": [
        "boys = ['Peter', 'Alex', 'John', 'Arthur', 'Richard']\n",
        "girls = ['Kate', 'Liza', 'Kira', 'Emma', 'Trisha']\n",
        "\n",
        "if len(boys) == len(girls):\n",
        "    res = list(zip(sorted(boys),sorted(girls)))\n",
        "    print(\"Идеальные пары:\")\n",
        "    for pair in res:\n",
        "        print(f\"{pair[0]} и {pair[1]}\")\n",
        "else:\n",
        "    print('Внимание, кто-то может остаться без пары!')"
      ],
      "execution_count": 3,
      "outputs": [
        {
          "output_type": "stream",
          "text": [
            "Идеальные пары:\n",
            "Alex и Emma\n",
            "Arthur и Kate\n",
            "John и Kira\n",
            "Peter и Liza\n",
            "Richard и Trisha\n"
          ],
          "name": "stdout"
        }
      ]
    },
    {
      "cell_type": "markdown",
      "metadata": {
        "id": "7tG9ybRw3aZU"
      },
      "source": [
        "### Задание № 4"
      ]
    },
    {
      "cell_type": "markdown",
      "metadata": {
        "id": "dnBEUzrf3aZV"
      },
      "source": [
        "У нас есть список, содержащий информацию о среднедневной температуре в Фаренгейтах за произвольный период по странам (структура данных в примере). \n",
        "Необходимо написать код, который рассчитает среднюю температуру за период в Цельсиях(!) для каждой страны.\n",
        "\n",
        "Пример работы программы:\n",
        "\n",
        "| Country       | Temperature                                   | \n",
        "|:------------- | ---------------------------------------------:| \n",
        "| Thailand      | 75.2, 77, 78.8, 73.4, 68, 75.2, 77            |\n",
        "| Germany       | 57.2, 55.4, 59, 59, 53.6                      |\n",
        "| Russia        | 35.6, 37.4, 39.2, 41, 42.8, 39.2, 35.6        |\n",
        "| Poland        | 50, 50, 53.6, 57.2, 55.4, 55.4                |\n",
        "\n",
        "\n",
        "\n",
        "![RealData](https://puu.sh/GCl6j/0c0d44b81d.png)\n",
        "\n",
        "T(°C) = (T(°F) - 32) × 5/9\n",
        "\n",
        "Результат:\n",
        "\n",
        "Средняя температура в странах:\n",
        "Thailand  -  23.9 С\n",
        "Germany  -  13.8 С\n",
        "Russia  -  3.7 С\n",
        "Poland  -  12.0 С"
      ]
    },
    {
      "cell_type": "code",
      "metadata": {
        "colab": {
          "base_uri": "https://localhost:8080/"
        },
        "id": "FVy_E3X83aZV",
        "outputId": "444371a3-646d-4da2-fcd3-5bcf437c6728"
      },
      "source": [
        "def temp_C(temperature):\n",
        "    result = f'{(temperature - 32) * (5/9) :.1f} C'\n",
        "    return result\n",
        "\n",
        "countries_temperature = [\n",
        "['Thailand', [75.2, 77, 78.8, 73.4, 68, 75.2, 77]],\n",
        "['Germany', [57.2, 55.4, 59, 59, 53.6]],\n",
        "['Russia', [35.6, 37.4, 39.2, 41, 42.8, 39.2, 35.6]],\n",
        "['Poland', [50, 50, 53.6, 57.2, 55.4, 55.4]]\n",
        "]\n",
        "\n",
        "avg_temp = 0\n",
        "print('Средняя температура в странах: ')\n",
        "for row in countries_temperature:\n",
        "    avg_temp = sum(row[1]) / len(row[1])\n",
        "    print(f'{row[0]} - {temp_C(avg_temp)}')"
      ],
      "execution_count": 4,
      "outputs": [
        {
          "output_type": "stream",
          "text": [
            "Средняя температура в странах: \n",
            "Thailand - 23.9 C\n",
            "Germany - 13.8 C\n",
            "Russia - 3.7 C\n",
            "Poland - 12.0 C\n"
          ],
          "name": "stdout"
        }
      ]
    },
    {
      "cell_type": "markdown",
      "metadata": {
        "id": "goQu3qss3aZW"
      },
      "source": [
        "### Задание № 5*"
      ]
    },
    {
      "cell_type": "markdown",
      "metadata": {
        "id": "EhJu053q3aZW"
      },
      "source": [
        "Дан поток логов по количеству просмотренных страниц для каждого пользователя. Вам необходимо написать алгоритм, который считает среднее значение просмотров на пользователя. Т. е. надо посчитать отношение суммы всех просмотров к количеству уникальных пользователей."
      ]
    },
    {
      "cell_type": "code",
      "metadata": {
        "colab": {
          "base_uri": "https://localhost:8080/"
        },
        "id": "rIYBkpIP3aZW",
        "outputId": "c97f856e-91a0-4eb3-cef3-94112faf5d36"
      },
      "source": [
        "stream = [\n",
        "'2018-01-01,user1,3',\n",
        "'2018-01-07,user1,4',\n",
        "'2018-03-29,user1,1',\n",
        "'2018-04-04,user1,13',\n",
        "'2018-01-05,user2,7',\n",
        "'2018-06-14,user3,4',\n",
        "'2018-07-02,user3,10',\n",
        "'2018-03-21,user4,19',\n",
        "'2018-03-22,user4,4',\n",
        "'2018-04-22,user4,8',\n",
        "'2018-05-03,user4,9',\n",
        "'2018-05-11,user4,11',\n",
        "]\n",
        "\n",
        "raw = []\n",
        "unique_list = []\n",
        "\n",
        "for elem in stream:\n",
        "    date, user, page_view_count = elem.split(',')\n",
        "    raw.append([date,user,page_view_count])\n",
        "    if user not in unique_list:\n",
        "        unique_list.append(user)\n",
        "\n",
        "page_view_total = 0\n",
        "\n",
        "for row in raw:\n",
        "    page_view_total += int(row[2])\n",
        "    \n",
        "print(f'Среднее количество просмотров на уникального пользователя: {page_view_total / len(unique_list)}')\n"
      ],
      "execution_count": 5,
      "outputs": [
        {
          "output_type": "stream",
          "text": [
            "Среднее количество просмотров на уникального пользователя: 23.25\n"
          ],
          "name": "stdout"
        }
      ]
    },
    {
      "cell_type": "markdown",
      "metadata": {
        "id": "R-PwBaEy3aZX"
      },
      "source": [
        "### Задание № 6*"
      ]
    },
    {
      "cell_type": "markdown",
      "metadata": {
        "id": "grjXPDte3aZX"
      },
      "source": [
        "Необходимо у пользователя запрашивать набор чисел разделенных пробелом. В результате должны выводиться числа, которые повторяются в вводе более одного раза."
      ]
    },
    {
      "cell_type": "code",
      "metadata": {
        "colab": {
          "base_uri": "https://localhost:8080/"
        },
        "id": "TN6ToFne3aZY",
        "outputId": "5d28fdba-ef2e-4d2b-a71c-51b70056e1f5"
      },
      "source": [
        "seq = [int(i) for i in input(\"Введите числа, разделенные пробелом: \").split()]\n",
        "\n",
        "high_freq = []\n",
        "\n",
        "for digit in seq:\n",
        "    if seq.count(digit) > 1:\n",
        "        if digit not in high_freq:\n",
        "            high_freq.append(digit)\n",
        "\n",
        "if len(high_freq) == 0:\n",
        "    print('Список чисел, повторяющихся более 1 раза - пуст')\n",
        "else:\n",
        "    print(*high_freq, sep = ' ')\n"
      ],
      "execution_count": 11,
      "outputs": [
        {
          "output_type": "stream",
          "text": [
            "Введите числа, разделенные пробелом: 1 1 1 1 1 2 2 2\n",
            "1 2\n"
          ],
          "name": "stdout"
        }
      ]
    }
  ]
}