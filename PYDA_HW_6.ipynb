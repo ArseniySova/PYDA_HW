{
  "nbformat": 4,
  "nbformat_minor": 0,
  "metadata": {
    "kernelspec": {
      "display_name": "Python 3",
      "language": "python",
      "name": "python3"
    },
    "language_info": {
      "codemirror_mode": {
        "name": "ipython",
        "version": 3
      },
      "file_extension": ".py",
      "mimetype": "text/x-python",
      "name": "python",
      "nbconvert_exporter": "python",
      "pygments_lexer": "ipython3",
      "version": "3.8.3"
    },
    "colab": {
      "name": "PYDA_HW_6.ipynb",
      "provenance": []
    }
  },
  "cells": [
    {
      "cell_type": "markdown",
      "metadata": {
        "id": "r2kERUKkR9GY"
      },
      "source": [
        "### Задание 1\n",
        "\n"
      ]
    },
    {
      "cell_type": "markdown",
      "metadata": {
        "id": "v_406wOqR9GZ"
      },
      "source": [
        "- Печатные газеты использовали свой формат дат для каждого выпуска. Для каждой газеты из списка напишите формат указанной даты для перевода в объект datetime:\n",
        "\n",
        "\n",
        "1. The Moscow Times - Wednesday, October 2, 2002\n",
        "2. The Guardian - Friday, 11.10.13\n",
        "3. Daily News - Thursday, 18 August 1977"
      ]
    },
    {
      "cell_type": "code",
      "metadata": {
        "id": "W_UvmSWHR9GZ"
      },
      "source": [
        "from datetime import datetime\n",
        "\n",
        "Newspapers = ['The Moscow Times', 'The Guardian', 'Daily News']\n",
        "\n",
        "date_test = {}\n",
        "date_test.update({Newspapers[0]:'Wednesday, October 2, 2002',Newspapers[1]:'Friday, 11.10.13',Newspapers[2]:'Thursday, 18 August 1977'})\n",
        "\n",
        "date_format = {}\n",
        "date_format.update({Newspapers[0]:'%A, %B %d, %Y', Newspapers[1]:'%A, %m.%d.%y', Newspapers[2]:'%A, %d %B %Y'})\n"
      ],
      "execution_count": null,
      "outputs": []
    },
    {
      "cell_type": "code",
      "metadata": {
        "id": "AkHaf8hPR9Gb",
        "outputId": "674ea2cd-121f-4dc8-d2f0-83370ff9305f"
      },
      "source": [
        "for np in Newspapers:\n",
        "    date_ = datetime.strptime(date_test[np],date_format[np])\n",
        "    print(f'{np} date fromat is : {date_}')\n",
        "    "
      ],
      "execution_count": null,
      "outputs": [
        {
          "output_type": "stream",
          "text": [
            "The Moscow Times date fromat is : 2002-10-02 00:00:00\n",
            "The Guardian date fromat is : 2013-11-10 00:00:00\n",
            "Daily News date fromat is : 1977-08-18 00:00:00\n"
          ],
          "name": "stdout"
        }
      ]
    },
    {
      "cell_type": "markdown",
      "metadata": {
        "id": "Mf8AmazHR9Gc"
      },
      "source": [
        "### Задание 2"
      ]
    },
    {
      "cell_type": "markdown",
      "metadata": {
        "id": "cD7UlF6qR9Gc"
      },
      "source": [
        "- Дан поток дат в формате YYYY-MM-DD, в которых встречаются некорректные значения:\n",
        "stream = [‘2018-04-02’, ‘2018-02-29’, ‘2018-19-02’]\n",
        "\n",
        "Напишите функцию, которая проверяет эти даты на корректность. Т. е. для каждой даты возвращает True (дата корректна) или False (некорректная дата)."
      ]
    },
    {
      "cell_type": "code",
      "metadata": {
        "id": "kDAWk97eR9Gd"
      },
      "source": [
        "def date_checker(dates, date_format = '%Y-%m-%d'):\n",
        "    result = []\n",
        "    for date_sample in dates:\n",
        "        try:\n",
        "            datetime.strptime(date_sample, date_format)\n",
        "            result.append((date_sample, True))\n",
        "        except ValueError:\n",
        "            result.append((date_sample, False))   \n",
        "    \n",
        "    return result"
      ],
      "execution_count": null,
      "outputs": []
    },
    {
      "cell_type": "code",
      "metadata": {
        "id": "j1yGOnATR9Gd",
        "outputId": "d20496d3-3b3a-45f1-bf16-47601a939286"
      },
      "source": [
        "stream = ['2018-04-02', '2018-02-29', '2018-19-02']\n",
        "    \n",
        "print(date_checker(stream))"
      ],
      "execution_count": null,
      "outputs": [
        {
          "output_type": "stream",
          "text": [
            "[('2018-04-02', True), ('2018-02-29', False), ('2018-19-02', False)]\n"
          ],
          "name": "stdout"
        }
      ]
    },
    {
      "cell_type": "markdown",
      "metadata": {
        "id": "1Fe8QiIvR9Ge"
      },
      "source": [
        "## Задание 3"
      ]
    },
    {
      "cell_type": "markdown",
      "metadata": {
        "id": "2-xui0wwR9Ge"
      },
      "source": [
        "- Напишите функцию date_range, которая возвращает список дат за период от start_date до end_date. Даты должны вводиться в формате YYYY-MM-DD. В случае неверного формата или при start_date > end_date должен возвращаться пустой список."
      ]
    },
    {
      "cell_type": "code",
      "metadata": {
        "id": "smyhBSnDR9Ge"
      },
      "source": [
        "from datetime import timedelta\n",
        "\n",
        "def date_range(start_date, end_date):\n",
        "    if start_date > end_date:\n",
        "        print('Error. Start_Date more than End_Date')\n",
        "        return []\n",
        "    else:\n",
        "        try:\n",
        "            start_date = datetime.strptime(start_date,'%Y-%m-%d')\n",
        "            end_date = datetime.strptime(end_date,'%Y-%m-%d')\n",
        "            current_date = start_date\n",
        "            result = []\n",
        "            while current_date <= end_date:\n",
        "                result.append(current_date.strftime('%Y-%m-%d'))\n",
        "                current_date += timedelta(days = 1)\n",
        "            return result\n",
        "        except ValueError:\n",
        "            print('Error. Wrong date format. It should be YYYY-MM-DD for both dates')\n",
        "            return []"
      ],
      "execution_count": null,
      "outputs": []
    },
    {
      "cell_type": "code",
      "metadata": {
        "id": "iLGma-YmR9Gf",
        "outputId": "1112077f-0950-4e03-902d-cc08906fd490"
      },
      "source": [
        "date_range('2018-04-02','2018-04-18')"
      ],
      "execution_count": null,
      "outputs": [
        {
          "output_type": "execute_result",
          "data": {
            "text/plain": [
              "['2018-04-02',\n",
              " '2018-04-03',\n",
              " '2018-04-04',\n",
              " '2018-04-05',\n",
              " '2018-04-06',\n",
              " '2018-04-07',\n",
              " '2018-04-08',\n",
              " '2018-04-09',\n",
              " '2018-04-10',\n",
              " '2018-04-11',\n",
              " '2018-04-12',\n",
              " '2018-04-13',\n",
              " '2018-04-14',\n",
              " '2018-04-15',\n",
              " '2018-04-16',\n",
              " '2018-04-17',\n",
              " '2018-04-18']"
            ]
          },
          "metadata": {
            "tags": []
          },
          "execution_count": 36
        }
      ]
    },
    {
      "cell_type": "markdown",
      "metadata": {
        "id": "NYaQltukR9Gf"
      },
      "source": [
        "## Задание 4"
      ]
    },
    {
      "cell_type": "code",
      "metadata": {
        "id": "nDNPFzk-R9Gg"
      },
      "source": [
        "DEFAULT_USER_COUNT = 3"
      ],
      "execution_count": null,
      "outputs": []
    },
    {
      "cell_type": "code",
      "metadata": {
        "id": "y_4p4oMqR9Gg"
      },
      "source": [
        "def delete_and_return_last_user(region, default_list=['A100', 'A101','A102']):\n",
        "    \"\"\"\n",
        "    Удаляет из списка default_list последнего пользователя\n",
        "    и возвращает ID нового последнего пользователя.\n",
        "    \"\"\"\n",
        "    #print(default_list)\n",
        "    element_to_delete = default_list[-1]\n",
        "    default_list.remove(element_to_delete)\n",
        "\n",
        "    return default_list[DEFAULT_USER_COUNT-2]\n",
        "\n",
        "delete_and_return_last_user(1)\n",
        "delete_and_return_last_user(1)"
      ],
      "execution_count": null,
      "outputs": []
    }
  ]
}