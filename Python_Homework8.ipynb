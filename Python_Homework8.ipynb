{
 "cells": [
  {
   "cell_type": "markdown",
   "metadata": {},
   "source": [
    "## Домашнее задание № 8. Регулярные выражения"
   ]
  },
  {
   "cell_type": "markdown",
   "metadata": {},
   "source": [
    "### Задание 1\n",
    "\n",
    "- [x] Напишите функцию, которая принимает на вход строку и проверяет является ли она валидным транспортным номером (1 буква, 3 цифры, 2 буквы, 2-3 цифры). Обратите внимание, что не все буквы кириллического алфавита используются в транспортных номерах.\n",
    "\n",
    "Если номер валиден, то функция должна возвращать отдельно номер и регион."
   ]
  },
  {
   "cell_type": "code",
   "execution_count": 4,
   "metadata": {},
   "outputs": [],
   "source": [
    "import re"
   ]
  },
  {
   "cell_type": "code",
   "execution_count": 5,
   "metadata": {},
   "outputs": [
    {
     "name": "stdout",
     "output_type": "stream",
     "text": [
      "Результат: Номер У822ВС валиден. Регион - 178\n"
     ]
    }
   ],
   "source": [
    "def reg_number(car_id):\n",
    "    pattern = r'([ABEKMHOPCTYXАВЕКМНОРСТУХ][^0]\\d{2}[ABEKMHOPCTYXАВЕКМНОРСТУХ]{2})([^0]\\d{1,2})'\n",
    "    match = re.match(pattern, car_id)\n",
    "    if match:\n",
    "        print(f'Результат: Номер {match.group(1)} валиден. Регион - {match.group(2)}')\n",
    "    else:\n",
    "        print('Номер не валиден')\n",
    "\n",
    "reg_number('У822ВС178')"
   ]
  },
  {
   "cell_type": "markdown",
   "metadata": {},
   "source": [
    "### Задание 2\n",
    "\n",
    "- [x] Напишите функцию, которая будет удалять все последовательные повторы слов из заданной строки при помощи регулярных выражений."
   ]
  },
  {
   "cell_type": "code",
   "execution_count": 8,
   "metadata": {},
   "outputs": [
    {
     "data": {
      "text/plain": [
       "'Напишите функцию, которая будет удалять все последовательные повторы слов из заданной строки при помощи регулярных выражений.'"
      ]
     },
     "execution_count": 8,
     "metadata": {},
     "output_type": "execute_result"
    }
   ],
   "source": [
    "string = 'Напишите функцию функцию, которая будет будет будет будет удалять все все все все последовательные повторы слов из из из из заданной строки строки при помощи регулярных выражений.'\n",
    "\n",
    "def repeat_remover(str):\n",
    "    return re.sub(r'\\b(\\w+)(?:\\s+\\1\\b)+',r'\\1', str)\n",
    "\n",
    "repeat_remover(string)"
   ]
  },
  {
   "cell_type": "markdown",
   "metadata": {},
   "source": [
    "### Задание 3\n",
    "\n",
    "- [x] Напишите функцию, которая будет возвращать акроним по переданной в нее строке со словами."
   ]
  },
  {
   "cell_type": "code",
   "execution_count": 14,
   "metadata": {},
   "outputs": [
    {
     "name": "stdout",
     "output_type": "stream",
     "text": [
      "NFC\n"
     ]
    }
   ],
   "source": [
    "def acronym(str):\n",
    "    result = re.findall(r'\\b(\\w)\\w*\\b', str)\n",
    "    print(*list(map(lambda x: x.upper(),result)),sep = '')\n",
    "                        \n",
    "acronym('Near Field Communication')"
   ]
  },
  {
   "cell_type": "markdown",
   "metadata": {},
   "source": [
    "### Задание 4\n",
    "\n",
    "- [x] Напишите функцию, которая будет принимать на вход список email-адресов и выводить их распределение по доменным зонам."
   ]
  },
  {
   "cell_type": "code",
   "execution_count": 25,
   "metadata": {},
   "outputs": [
    {
     "name": "stdout",
     "output_type": "stream",
     "text": [
      "gmail.com : 2\n",
      "test.in : 1\n",
      "ya.ru : 2\n",
      "mail.ru : 1\n"
     ]
    }
   ],
   "source": [
    "test = ['test@gmail.com', 'xyz@test.in', 'test@ya.ru', 'xyz@mail.ru', 'xyz@ya.ru', 'xyz@gmail.com']\n",
    "def domens_distr(list):\n",
    "    string = ' '.join(map(str, list)) \n",
    "    result = re.findall(r'(?:@)(\\w+.\\w+)',string)\n",
    "    res_dic = {}\n",
    "    for domen in result:\n",
    "        if domen in res_dic.keys():\n",
    "            res_dic[domen] += 1\n",
    "        else:\n",
    "            res_dic.update({domen:1})\n",
    "    for key, value in res_dic.items():\n",
    "        print(f'{key} : {value}')\n",
    "    \n",
    "    \n",
    "domens_distr(test)"
   ]
  },
  {
   "cell_type": "markdown",
   "metadata": {},
   "source": [
    "### Задание 5\n",
    "\n",
    "- [x] Напишите функцию, которая будет подсчитывать сколько слов начинается на гласные, а сколько на согласные буквы в тексте (текст может быть написан как с использованием букв кириллицы, так и латиницы)."
   ]
  },
  {
   "cell_type": "code",
   "execution_count": 35,
   "metadata": {},
   "outputs": [
    {
     "name": "stdout",
     "output_type": "stream",
     "text": [
      "Слов на гласные буквы: 9\n",
      "Слов на согласные буквы: 21\n"
     ]
    }
   ],
   "source": [
    "text = 'Эталонной реализацией Python является интерпретатор CPython, поддерживающий большинство активно используемых платформ. Он распространяется под свободной лицензией Python Software Foundation License, позволяющей использовать его без ограничений в любых приложениях, включая проприетарные.'\n",
    "\n",
    "def vow_and_con(text):\n",
    "    result_vow = re.findall(r'(\\b[УЕЫАОЭЯИЮAIEOU]\\w*\\b)',text.upper())\n",
    "    result_words = re.findall(r'\\b\\w+\\b', text)\n",
    "    print(f'Слов на гласные буквы: {len(result_vow)}\\nСлов на согласные буквы: {len(result_words) - len(result_vow)}')\n",
    "    \n",
    "    \n",
    "vow_and_con(text)"
   ]
  },
  {
   "cell_type": "markdown",
   "metadata": {},
   "source": [
    "### Задание 6\n",
    "\n",
    "- [x] Напишите функцию, которая будет проверять номер сотового телефона на валидность (только для российского формата), если он валиден, то переводить его в формат:\n",
    "\n",
    "+7-xxx-xxx-xx-xx\n",
    "\n",
    "Постарайтесь предусмотреть как можно больше адекватных форматов изначального ввода номера. Примеры работы программы:"
   ]
  },
  {
   "cell_type": "code",
   "execution_count": 43,
   "metadata": {},
   "outputs": [
    {
     "name": "stdout",
     "output_type": "stream",
     "text": [
      "+7-955-555-55-55\n"
     ]
    }
   ],
   "source": [
    "def phone(number):\n",
    "    pattern = r'(\\+7|8|7)([ -(\\[]+)(\\d{3})([ -)\\]]+)(\\d{3})([ -])*(\\d{2})([ -])*(\\d{2})'\n",
    "    res = re.match(pattern, number)\n",
    "    if res:\n",
    "        print(f'+7-{res.group(3)}-{res.group(5)}-{res.group(7)}-{res.group(9)}')\n",
    "        \n",
    "phone('7(955) 555-55-55')"
   ]
  }
 ],
 "metadata": {
  "kernelspec": {
   "display_name": "Python 3",
   "language": "python",
   "name": "python3"
  },
  "language_info": {
   "codemirror_mode": {
    "name": "ipython",
    "version": 3
   },
   "file_extension": ".py",
   "mimetype": "text/x-python",
   "name": "python",
   "nbconvert_exporter": "python",
   "pygments_lexer": "ipython3",
   "version": "3.8.3"
  }
 },
 "nbformat": 4,
 "nbformat_minor": 4
}
